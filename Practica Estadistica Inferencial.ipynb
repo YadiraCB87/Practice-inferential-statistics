{
 "cells": [
  {
   "cell_type": "code",
   "execution_count": 1,
   "id": "1c1be0b3-12a7-43b7-a5b6-a3be441fc783",
   "metadata": {
    "tags": []
   },
   "outputs": [],
   "source": [
    "import numpy as np\n",
    "import pandas as pd\n",
    "import seaborn as sns\n",
    "import dc_stat_think as dcst\n",
    "import matplotlib.pyplot as plt "
   ]
  },
  {
   "cell_type": "code",
   "execution_count": 2,
   "id": "34dcc1b7-fe3b-47de-80aa-f4baeaadcab7",
   "metadata": {
    "tags": []
   },
   "outputs": [
    {
     "data": {
      "text/html": [
       "<div>\n",
       "<style scoped>\n",
       "    .dataframe tbody tr th:only-of-type {\n",
       "        vertical-align: middle;\n",
       "    }\n",
       "\n",
       "    .dataframe tbody tr th {\n",
       "        vertical-align: top;\n",
       "    }\n",
       "\n",
       "    .dataframe thead th {\n",
       "        text-align: right;\n",
       "    }\n",
       "</style>\n",
       "<table border=\"1\" class=\"dataframe\">\n",
       "  <thead>\n",
       "    <tr style=\"text-align: right;\">\n",
       "      <th></th>\n",
       "      <th>customerid</th>\n",
       "      <th>age</th>\n",
       "      <th>salary</th>\n",
       "      <th>balance</th>\n",
       "      <th>marital</th>\n",
       "      <th>jobedu</th>\n",
       "      <th>targeted</th>\n",
       "      <th>default</th>\n",
       "      <th>housing</th>\n",
       "      <th>loan</th>\n",
       "      <th>contact</th>\n",
       "      <th>day</th>\n",
       "      <th>month</th>\n",
       "      <th>duration</th>\n",
       "      <th>campaign</th>\n",
       "      <th>pdays</th>\n",
       "      <th>previous</th>\n",
       "      <th>poutcome</th>\n",
       "      <th>response</th>\n",
       "    </tr>\n",
       "  </thead>\n",
       "  <tbody>\n",
       "    <tr>\n",
       "      <th>0</th>\n",
       "      <td>1</td>\n",
       "      <td>58.0</td>\n",
       "      <td>100000</td>\n",
       "      <td>2143</td>\n",
       "      <td>married</td>\n",
       "      <td>management,tertiary</td>\n",
       "      <td>yes</td>\n",
       "      <td>no</td>\n",
       "      <td>yes</td>\n",
       "      <td>no</td>\n",
       "      <td>unknown</td>\n",
       "      <td>5</td>\n",
       "      <td>may, 2017</td>\n",
       "      <td>261 sec</td>\n",
       "      <td>1</td>\n",
       "      <td>-1</td>\n",
       "      <td>0</td>\n",
       "      <td>unknown</td>\n",
       "      <td>no</td>\n",
       "    </tr>\n",
       "    <tr>\n",
       "      <th>1</th>\n",
       "      <td>2</td>\n",
       "      <td>44.0</td>\n",
       "      <td>60000</td>\n",
       "      <td>29</td>\n",
       "      <td>single</td>\n",
       "      <td>technician,secondary</td>\n",
       "      <td>yes</td>\n",
       "      <td>no</td>\n",
       "      <td>yes</td>\n",
       "      <td>no</td>\n",
       "      <td>unknown</td>\n",
       "      <td>5</td>\n",
       "      <td>may, 2017</td>\n",
       "      <td>151 sec</td>\n",
       "      <td>1</td>\n",
       "      <td>-1</td>\n",
       "      <td>0</td>\n",
       "      <td>unknown</td>\n",
       "      <td>no</td>\n",
       "    </tr>\n",
       "    <tr>\n",
       "      <th>2</th>\n",
       "      <td>3</td>\n",
       "      <td>33.0</td>\n",
       "      <td>120000</td>\n",
       "      <td>2</td>\n",
       "      <td>married</td>\n",
       "      <td>entrepreneur,secondary</td>\n",
       "      <td>yes</td>\n",
       "      <td>no</td>\n",
       "      <td>yes</td>\n",
       "      <td>yes</td>\n",
       "      <td>unknown</td>\n",
       "      <td>5</td>\n",
       "      <td>may, 2017</td>\n",
       "      <td>76 sec</td>\n",
       "      <td>1</td>\n",
       "      <td>-1</td>\n",
       "      <td>0</td>\n",
       "      <td>unknown</td>\n",
       "      <td>no</td>\n",
       "    </tr>\n",
       "    <tr>\n",
       "      <th>3</th>\n",
       "      <td>4</td>\n",
       "      <td>47.0</td>\n",
       "      <td>20000</td>\n",
       "      <td>1506</td>\n",
       "      <td>married</td>\n",
       "      <td>blue-collar,unknown</td>\n",
       "      <td>no</td>\n",
       "      <td>no</td>\n",
       "      <td>yes</td>\n",
       "      <td>no</td>\n",
       "      <td>unknown</td>\n",
       "      <td>5</td>\n",
       "      <td>may, 2017</td>\n",
       "      <td>92 sec</td>\n",
       "      <td>1</td>\n",
       "      <td>-1</td>\n",
       "      <td>0</td>\n",
       "      <td>unknown</td>\n",
       "      <td>no</td>\n",
       "    </tr>\n",
       "    <tr>\n",
       "      <th>4</th>\n",
       "      <td>5</td>\n",
       "      <td>33.0</td>\n",
       "      <td>0</td>\n",
       "      <td>1</td>\n",
       "      <td>single</td>\n",
       "      <td>unknown,unknown</td>\n",
       "      <td>no</td>\n",
       "      <td>no</td>\n",
       "      <td>no</td>\n",
       "      <td>no</td>\n",
       "      <td>unknown</td>\n",
       "      <td>5</td>\n",
       "      <td>may, 2017</td>\n",
       "      <td>198 sec</td>\n",
       "      <td>1</td>\n",
       "      <td>-1</td>\n",
       "      <td>0</td>\n",
       "      <td>unknown</td>\n",
       "      <td>no</td>\n",
       "    </tr>\n",
       "  </tbody>\n",
       "</table>\n",
       "</div>"
      ],
      "text/plain": [
       "   customerid   age  salary  balance  marital                  jobedu  \\\n",
       "0           1  58.0  100000     2143  married     management,tertiary   \n",
       "1           2  44.0   60000       29   single    technician,secondary   \n",
       "2           3  33.0  120000        2  married  entrepreneur,secondary   \n",
       "3           4  47.0   20000     1506  married     blue-collar,unknown   \n",
       "4           5  33.0       0        1   single         unknown,unknown   \n",
       "\n",
       "  targeted default housing loan  contact  day      month duration  campaign  \\\n",
       "0      yes      no     yes   no  unknown    5  may, 2017  261 sec         1   \n",
       "1      yes      no     yes   no  unknown    5  may, 2017  151 sec         1   \n",
       "2      yes      no     yes  yes  unknown    5  may, 2017   76 sec         1   \n",
       "3       no      no     yes   no  unknown    5  may, 2017   92 sec         1   \n",
       "4       no      no      no   no  unknown    5  may, 2017  198 sec         1   \n",
       "\n",
       "   pdays  previous poutcome response  \n",
       "0     -1         0  unknown       no  \n",
       "1     -1         0  unknown       no  \n",
       "2     -1         0  unknown       no  \n",
       "3     -1         0  unknown       no  \n",
       "4     -1         0  unknown       no  "
      ]
     },
     "execution_count": 2,
     "metadata": {},
     "output_type": "execute_result"
    }
   ],
   "source": [
    "data = pd.read_csv(r\"C:\\Users\\ViG\\Desktop\\Marketing_Analysis.csv\")\n",
    "data.head()"
   ]
  },
  {
   "cell_type": "code",
   "execution_count": null,
   "id": "2717ec54-c3fe-49fb-a362-2d0fa9bb0673",
   "metadata": {},
   "outputs": [],
   "source": []
  },
  {
   "cell_type": "code",
   "execution_count": 4,
   "id": "c1c29a05-f449-4d25-a864-c13eb8a3cf54",
   "metadata": {
    "tags": []
   },
   "outputs": [
    {
     "data": {
      "text/plain": [
       "<Axes: ylabel='marital'>"
      ]
     },
     "execution_count": 4,
     "metadata": {},
     "output_type": "execute_result"
    },
    {
     "data": {
      "image/png": "[encoded data removed]",
      "text/plain": [
       "<Figure size 640x480 with 1 Axes>"
      ]
     },
     "metadata": {},
     "output_type": "display_data"
    }
   ],
   "source": [
    "##  utilizar la columna de estado marital y planeteamento de la hipotesis\n",
    " \n",
    "grafico=pd.crosstab(data.marital,data.housing)\n",
    "grafico_porcentual= grafico.apply(lambda x: (x*100)/sum(x),axis=1)\n",
    "grafico_porcentual.plot.barh(stacked=True)"
   ]
  },
  {
   "cell_type": "code",
   "execution_count": 5,
   "id": "88425f07-e940-4402-b6f1-fd7a054171e3",
   "metadata": {
    "tags": []
   },
   "outputs": [
    {
     "data": {
      "text/html": [
       "<div>\n",
       "<style scoped>\n",
       "    .dataframe tbody tr th:only-of-type {\n",
       "        vertical-align: middle;\n",
       "    }\n",
       "\n",
       "    .dataframe tbody tr th {\n",
       "        vertical-align: top;\n",
       "    }\n",
       "\n",
       "    .dataframe thead th {\n",
       "        text-align: right;\n",
       "    }\n",
       "</style>\n",
       "<table border=\"1\" class=\"dataframe\">\n",
       "  <thead>\n",
       "    <tr style=\"text-align: right;\">\n",
       "      <th></th>\n",
       "      <th>marital</th>\n",
       "      <th>housing</th>\n",
       "    </tr>\n",
       "  </thead>\n",
       "  <tbody>\n",
       "    <tr>\n",
       "      <th>0</th>\n",
       "      <td>married</td>\n",
       "      <td>yes</td>\n",
       "    </tr>\n",
       "    <tr>\n",
       "      <th>1</th>\n",
       "      <td>single</td>\n",
       "      <td>yes</td>\n",
       "    </tr>\n",
       "    <tr>\n",
       "      <th>2</th>\n",
       "      <td>married</td>\n",
       "      <td>yes</td>\n",
       "    </tr>\n",
       "    <tr>\n",
       "      <th>3</th>\n",
       "      <td>married</td>\n",
       "      <td>yes</td>\n",
       "    </tr>\n",
       "    <tr>\n",
       "      <th>4</th>\n",
       "      <td>single</td>\n",
       "      <td>no</td>\n",
       "    </tr>\n",
       "  </tbody>\n",
       "</table>\n",
       "</div>"
      ],
      "text/plain": [
       "   marital housing\n",
       "0  married     yes\n",
       "1   single     yes\n",
       "2  married     yes\n",
       "3  married     yes\n",
       "4   single      no"
      ]
     },
     "execution_count": 5,
     "metadata": {},
     "output_type": "execute_result"
    }
   ],
   "source": [
    "## Establecer la hipotesis nula y la hipotesis alternativa\n",
    "\n",
    "## ( HIPOTESIS NULA) No existe una diferencia significativa entre los personas solteras y casadas a la tenencia de hogar propio \n",
    "## ( HIPOTESIS ALTERNATIVA) Existe una diferencia significativa entre el estado materital a la proporcion de tenencia de hogar propio\n",
    "\n",
    "\n",
    "## Estadisticamente se buscar rechazar la hipotesis nula \n",
    "\n",
    "## Seleccionar las variables de interes\n",
    "## LOC Devuelve el elemento que se encuentra en la fila con nombre fila y la columna de con nombre columna del DataFrame \n",
    "\n",
    "analisis = data.loc[data['housing'].isin(['yes','no']),\n",
    "                   ['marital','housing']]\n",
    "analisis.head()\n",
    "\n",
    "\n"
   ]
  },
  {
   "cell_type": "code",
   "execution_count": 20,
   "id": "ee905551-0e3a-47a8-afdc-af99329ae228",
   "metadata": {
    "tags": []
   },
   "outputs": [],
   "source": [
    "## Genere Muestras permutadas y ejecute replicas de esta (se debe preprarar la funcion primero)\n",
    "\n",
    "## Funcion para las permutaciones\n",
    "## Muestra permutada se da aaprtir de dos conjuntos de datos\n",
    "## Verificar ventana de gaus para rechazar o aceptar la hipotesis nula\n",
    "\n",
    "\n",
    "def permutation_sample(data1,data2):\n",
    "    \n",
    "    ## concatenar conjuntos de la data\n",
    "    info = np.concatenate((data1,data2))\n",
    "    \n",
    "    ##permutar los arreglos concatenados:datos permutados\n",
    "    permuted_info = np.random.permutation(info)\n",
    "    \n",
    "    ## Dividir el arreglo permutado en dos\n",
    "    perm_sample_1 = permuted_info[:len(data1)]\n",
    "    perm_sample_2 = permuted_info[len(data1):]\n",
    "\n",
    "    return perm_sample_1, perm_sample_2\n"
   ]
  },
  {
   "cell_type": "code",
   "execution_count": 10,
   "id": "512d1fcf-7093-4238-9021-d46ae52121b5",
   "metadata": {
    "tags": []
   },
   "outputs": [],
   "source": [
    "## Generar Muestra permutadas, se crean dos variables ya que regresa dos conjuntos de datos\n",
    "## Se especifican los conjuntos de datos\n",
    "\n",
    "perm_sample_1, perm_sample_2 = permutation_sample(\n",
    "                                 data.loc[data['marital'] == 'married',['housing']],\n",
    "                                 data.loc[data['marital'] == 'single',['housing']])\n"
   ]
  },
  {
   "cell_type": "code",
   "execution_count": 15,
   "id": "3a9bbd22-ea23-4139-9040-e548898eb484",
   "metadata": {
    "tags": []
   },
   "outputs": [
    {
     "data": {
      "text/plain": [
       "0.0020795475446599987"
      ]
     },
     "execution_count": 15,
     "metadata": {},
     "output_type": "execute_result"
    }
   ],
   "source": [
    "#### Se crea la funcion para definir la diferencia entre proporciones###\n",
    "\n",
    "\n",
    "def diff_of_props(data_1,data_2,value):\n",
    "    \"\"\"Diferencia entre los promedios de dos arreglos\"\"\"\n",
    "    \n",
    "    # se calcula la diferencia entre las proporciones de datos 1 y datos 2: diff\n",
    "    diff=np.mean(data_1[:,0]==value) - np.mean(data_2[:,0]==value)\n",
    "    \n",
    "    return diff\n",
    "\n",
    "diff_empiricas_prop=diff_of_props(perm_sample_1,perm_sample_2,'yes')\n",
    "diff_empiricas_prop"
   ]
  },
  {
   "cell_type": "code",
   "execution_count": 16,
   "id": "b2f019d6-9267-4cf3-ba2a-8dbfcb8eb947",
   "metadata": {
    "tags": []
   },
   "outputs": [],
   "source": [
    "def draw_perm_reps(data_1,data_2,func,value,size=1, prop=0):\n",
    "    \"\"\"Multiples repeticiones permutadas\"\"\"\n",
    "\n",
    "    \n",
    "    # Inicializar un arreglo (matrix) un arreglo puede contener una o varias columnas de repeticiones: perm_replicates\n",
    "    perm_replicates = np.empty(size)\n",
    "        \n",
    "        \n",
    "    for i in range(size):\n",
    "        # Se genera la muestra permutada \n",
    "        perm_sample_1,perm_perm_sample_2 = permutation_sample(data_1,data_2)\n",
    "        \n",
    "        ## computar el estadistico de prueba\n",
    "        \n",
    "        if prop ==0:\n",
    "            perm_replicates[i] = func(perm_sample_1,perm_sample_2)\n",
    "        elif prop == 1:\n",
    "            perm_replicates[i] = func(perm_sample_1,perm_sample_2,value)  \n",
    "            \n",
    "    return perm_replicates"
   ]
  },
  {
   "cell_type": "code",
   "execution_count": 25,
   "id": "9c4eabb7-ee29-4e04-8d46-07a7abd014a6",
   "metadata": {
    "tags": []
   },
   "outputs": [],
   "source": [
    "## Para poder general el nivel de significancia se debe de crear los objetos para las permutaciones \n",
    "\n",
    "perm_replicates = draw_perm_reps(data.loc[data['marital'] == 'married',['housing']],\n",
    "                                 data.loc[data['marital'] == 'single',['housing']],\n",
    "                                 diff_of_props, value = 'yes', size=10000, prop =1)"
   ]
  },
  {
   "cell_type": "code",
   "execution_count": 43,
   "id": "45ff6bb8-a108-45aa-a4b0-9f65d2712371",
   "metadata": {
    "tags": []
   },
   "outputs": [],
   "source": [
    "## Establecer el nivel de significancia α  (estadisticamente significativo) y revisar la region critica\n",
    "\n",
    "nvl_95 = np.percentile(perm_replicates,95)\n",
    "nvl_975 = np.percentile(perm_replicates,97.5)\n",
    "nvl_995 = np.percentile(perm_replicates,99.5)\n",
    "\n",
    "nvl_5 = np.percentile(perm_replicates,5)\n",
    "nvl_275 = np.percentile(perm_replicates,2.5)\n",
    "nvl_005 = np.percentile(perm_replicates,0.5)"
   ]
  },
  {
   "cell_type": "code",
   "execution_count": 44,
   "id": "b56edcc4-d561-4c9e-a167-926bbd6db941",
   "metadata": {
    "tags": []
   },
   "outputs": [
    {
     "data": {
      "text/plain": [
       "<matplotlib.lines.Line2D at 0x245085df2e0>"
      ]
     },
     "execution_count": 44,
     "metadata": {},
     "output_type": "execute_result"
    },
    {
     "data": {
      "image/png": "[encoded data removed]",
      "text/plain": [
       "<Figure size 640x480 with 1 Axes>"
      ]
     },
     "metadata": {},
     "output_type": "display_data"
    }
   ],
   "source": [
    "## Graficar el nivel de significancia aun 95% y la region crtica segun el nivel de confianza\n",
    "\n",
    "sns.histplot(data=perm_replicates)\n",
    "plt.axvline(diff_empiricas_prop,c=\"yellow\")\n",
    "plt.axvline(nvl_95,c=\"blue\")\n",
    "plt.axvline(nvl_5,c=\"blue\")\n",
    "\n",
    "## El resultado muestra que no hay suficiente evidencia para rechazar la hipotesis nula (prueba de hipotesis a dos colas) linea amarilla es el valor empirico"
   ]
  },
  {
   "cell_type": "code",
   "execution_count": 47,
   "id": "589cf967-4f7b-40ca-9f5b-d2ceca805ddb",
   "metadata": {
    "tags": []
   },
   "outputs": [
    {
     "data": {
      "text/plain": [
       "<matplotlib.lines.Line2D at 0x24508818eb0>"
      ]
     },
     "execution_count": 47,
     "metadata": {},
     "output_type": "execute_result"
    },
    {
     "data": {
      "image/png": "[encoded data removed]",
      "text/plain": [
       "<Figure size 640x480 with 1 Axes>"
      ]
     },
     "metadata": {},
     "output_type": "display_data"
    }
   ],
   "source": [
    "## Elija diferentes metodos de prueba de hipotesis segun el problema\n",
    "\n",
    "sns.histplot(data=perm_replicates)\n",
    "plt.axvline(diff_empiricas_prop,c=\"purple\")\n",
    "plt.axvline(nvl_975,c=\"yellow\")\n",
    "plt.axvline(nvl_275,c=\"yellow\")\n",
    "\n",
    "## No hay suficiente evidencia estadistica para rechazar la hipotesis nula "
   ]
  },
  {
   "cell_type": "code",
   "execution_count": 48,
   "id": "27da2f88-f4c6-4ac3-bb44-70095249b63f",
   "metadata": {
    "tags": []
   },
   "outputs": [
    {
     "data": {
      "text/plain": [
       "<matplotlib.lines.Line2D at 0x245099271c0>"
      ]
     },
     "execution_count": 48,
     "metadata": {},
     "output_type": "execute_result"
    },
    {
     "data": {
      "image/png": "[encoded data removed]",
      "text/plain": [
       "<Figure size 640x480 with 1 Axes>"
      ]
     },
     "metadata": {},
     "output_type": "display_data"
    }
   ],
   "source": [
    "sns.histplot(data=perm_replicates)\n",
    "plt.axvline(diff_empiricas_prop,c=\"pink\")\n",
    "plt.axvline(nvl_995,c=\"black\")\n",
    "plt.axvline(nvl_005,c=\"black\")\n",
    "\n",
    "## No hay suficiente evidencia estadistica para rechazar la hipotesis nula "
   ]
  },
  {
   "cell_type": "code",
   "execution_count": 49,
   "id": "0940e825-6d95-48d4-9318-aa65cc4112b1",
   "metadata": {
    "tags": []
   },
   "outputs": [
    {
     "name": "stdout",
     "output_type": "stream",
     "text": [
      "p-value = 0.372\n"
     ]
    }
   ],
   "source": [
    "## Calcular estadisticas y obtener valor P (Basada en dos colas) se usa el valor absoluto que permite valores negativos y positivos \n",
    "\n",
    "p = np.sum(abs(perm_replicates) >= abs(diff_empiricas_prop)) / len(perm_replicates)\n",
    "\n",
    "## Imprimir resultado\n",
    "        \n",
    "print('p-value =',p)\n"
   ]
  },
  {
   "cell_type": "code",
   "execution_count": 50,
   "id": "0851cb09-3373-49c9-90b2-8cb0a2c13a16",
   "metadata": {
    "tags": []
   },
   "outputs": [],
   "source": [
    "nvl_95 = np.percentile(perm_replicates,95)\n",
    "nvl_975 = np.percentile(perm_replicates,97.5)\n",
    "nvl_995 = np.percentile(perm_replicates,99.5)\n",
    "\n",
    "nvl_5 = np.percentile(perm_replicates,5)\n",
    "nvl_275 = np.percentile(perm_replicates,2.5)\n",
    "nvl_005 = np.percentile(perm_replicates,0.5)"
   ]
  },
  {
   "cell_type": "code",
   "execution_count": 51,
   "id": "ffe07578-db24-4015-a967-a6c132162eab",
   "metadata": {
    "tags": []
   },
   "outputs": [
    {
     "data": {
      "text/plain": [
       "<matplotlib.lines.Line2D at 0x24509a194f0>"
      ]
     },
     "execution_count": 51,
     "metadata": {},
     "output_type": "execute_result"
    },
    {
     "data": {
      "image/png": "[encoded data removed]",
      "text/plain": [
       "<Figure size 640x480 with 1 Axes>"
      ]
     },
     "metadata": {},
     "output_type": "display_data"
    }
   ],
   "source": [
    "## De acuerdo con los valores P y valor de significancia , juzgue si se acepta la hipotesis nula , si es necesario realice un grafico para visualizar la informacion obtenida\n",
    "\n",
    "## La hipotesis nula se acepta cuando el valor de P es mayor al valor de significancia \n",
    "\n",
    "sns.histplot(data=perm_replicates)\n",
    "plt.axvline(diff_empiricas_prop,c=\"green\")\n",
    "plt.axvline(nvl_95,c=\"red\")\n",
    "plt.axvline(nvl_5,c=\"red\")\n",
    "\n",
    "## El valor de P es menor al valor de significancia que se esta trabajando  , significa que no hay suficiente evidencia estadistica para aceptar la hipotesis nula "
   ]
  },
  {
   "cell_type": "code",
   "execution_count": 52,
   "id": "3f33e703-b0ce-4e1b-97fa-b63e194bd0f0",
   "metadata": {
    "tags": []
   },
   "outputs": [
    {
     "data": {
      "text/plain": [
       "<matplotlib.lines.Line2D at 0x24509a95670>"
      ]
     },
     "execution_count": 52,
     "metadata": {},
     "output_type": "execute_result"
    },
    {
     "data": {
      "image/png": "[encoded data removed]",
      "text/plain": [
       "<Figure size 640x480 with 1 Axes>"
      ]
     },
     "metadata": {},
     "output_type": "display_data"
    }
   ],
   "source": [
    "sns.histplot(data=perm_replicates)\n",
    "plt.axvline(diff_empiricas_prop,c=\"green\")\n",
    "plt.axvline(nvl_995,c=\"red\")\n",
    "plt.axvline(nvl_005,c=\"red\")\n",
    "\n",
    "## No Hay suficiente evidencia estradistica para aceptarla hipotesis nula "
   ]
  },
  {
   "cell_type": "code",
   "execution_count": null,
   "id": "ef8161e6-321b-42bb-b268-73c431826669",
   "metadata": {},
   "outputs": [],
   "source": []
  }
 ],
 "metadata": {
  "kernelspec": {
   "display_name": "Python 3 (ipykernel)",
   "language": "python",
   "name": "python3"
  },
  "language_info": {
   "codemirror_mode": {
    "name": "ipython",
    "version": 3
   },
   "file_extension": ".py",
   "mimetype": "text/x-python",
   "name": "python",
   "nbconvert_exporter": "python",
   "pygments_lexer": "ipython3",
   "version": "3.9.7"
  }
 },
 "nbformat": 4,
 "nbformat_minor": 5
}
