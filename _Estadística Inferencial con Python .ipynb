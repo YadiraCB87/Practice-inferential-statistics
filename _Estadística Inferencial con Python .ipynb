{
 "cells": [
  {
   "cell_type": "code",
   "execution_count": 1,
   "id": "a11b38e8",
   "metadata": {
    "tags": []
   },
   "outputs": [],
   "source": [
    "import pandas as pd\n",
    "import seaborn as sns \n",
    "import numpy as np\n",
    "import dc_stat_think as dcst\n",
    "import matplotlib.pyplot as plt \n",
    "\n"
   ]
  },
  {
   "cell_type": "code",
   "execution_count": 3,
   "id": "c55d0176",
   "metadata": {
    "tags": []
   },
   "outputs": [
    {
     "data": {
      "text/html": [
       "<div>\n",
       "<style scoped>\n",
       "    .dataframe tbody tr th:only-of-type {\n",
       "        vertical-align: middle;\n",
       "    }\n",
       "\n",
       "    .dataframe tbody tr th {\n",
       "        vertical-align: top;\n",
       "    }\n",
       "\n",
       "    .dataframe thead th {\n",
       "        text-align: right;\n",
       "    }\n",
       "</style>\n",
       "<table border=\"1\" class=\"dataframe\">\n",
       "  <thead>\n",
       "    <tr style=\"text-align: right;\">\n",
       "      <th></th>\n",
       "      <th>ID</th>\n",
       "      <th>SurveyYr</th>\n",
       "      <th>Gender</th>\n",
       "      <th>Age</th>\n",
       "      <th>AgeDecade</th>\n",
       "      <th>AgeMonths</th>\n",
       "      <th>Race1</th>\n",
       "      <th>Race3</th>\n",
       "      <th>Education</th>\n",
       "      <th>MaritalStatus</th>\n",
       "      <th>...</th>\n",
       "      <th>RegularMarij</th>\n",
       "      <th>AgeRegMarij</th>\n",
       "      <th>HardDrugs</th>\n",
       "      <th>SexEver</th>\n",
       "      <th>SexAge</th>\n",
       "      <th>SexNumPartnLife</th>\n",
       "      <th>SexNumPartYear</th>\n",
       "      <th>SameSex</th>\n",
       "      <th>SexOrientation</th>\n",
       "      <th>PregnantNow</th>\n",
       "    </tr>\n",
       "  </thead>\n",
       "  <tbody>\n",
       "    <tr>\n",
       "      <th>0</th>\n",
       "      <td>51624</td>\n",
       "      <td>2009_10</td>\n",
       "      <td>male</td>\n",
       "      <td>34</td>\n",
       "      <td>30-39</td>\n",
       "      <td>409.0</td>\n",
       "      <td>White</td>\n",
       "      <td>NaN</td>\n",
       "      <td>High School</td>\n",
       "      <td>Married</td>\n",
       "      <td>...</td>\n",
       "      <td>No</td>\n",
       "      <td>NaN</td>\n",
       "      <td>Yes</td>\n",
       "      <td>Yes</td>\n",
       "      <td>16.0</td>\n",
       "      <td>8.0</td>\n",
       "      <td>1.0</td>\n",
       "      <td>No</td>\n",
       "      <td>Heterosexual</td>\n",
       "      <td>NaN</td>\n",
       "    </tr>\n",
       "    <tr>\n",
       "      <th>1</th>\n",
       "      <td>51624</td>\n",
       "      <td>2009_10</td>\n",
       "      <td>male</td>\n",
       "      <td>34</td>\n",
       "      <td>30-39</td>\n",
       "      <td>409.0</td>\n",
       "      <td>White</td>\n",
       "      <td>NaN</td>\n",
       "      <td>High School</td>\n",
       "      <td>Married</td>\n",
       "      <td>...</td>\n",
       "      <td>No</td>\n",
       "      <td>NaN</td>\n",
       "      <td>Yes</td>\n",
       "      <td>Yes</td>\n",
       "      <td>16.0</td>\n",
       "      <td>8.0</td>\n",
       "      <td>1.0</td>\n",
       "      <td>No</td>\n",
       "      <td>Heterosexual</td>\n",
       "      <td>NaN</td>\n",
       "    </tr>\n",
       "    <tr>\n",
       "      <th>2</th>\n",
       "      <td>51624</td>\n",
       "      <td>2009_10</td>\n",
       "      <td>male</td>\n",
       "      <td>34</td>\n",
       "      <td>30-39</td>\n",
       "      <td>409.0</td>\n",
       "      <td>White</td>\n",
       "      <td>NaN</td>\n",
       "      <td>High School</td>\n",
       "      <td>Married</td>\n",
       "      <td>...</td>\n",
       "      <td>No</td>\n",
       "      <td>NaN</td>\n",
       "      <td>Yes</td>\n",
       "      <td>Yes</td>\n",
       "      <td>16.0</td>\n",
       "      <td>8.0</td>\n",
       "      <td>1.0</td>\n",
       "      <td>No</td>\n",
       "      <td>Heterosexual</td>\n",
       "      <td>NaN</td>\n",
       "    </tr>\n",
       "    <tr>\n",
       "      <th>3</th>\n",
       "      <td>51625</td>\n",
       "      <td>2009_10</td>\n",
       "      <td>male</td>\n",
       "      <td>4</td>\n",
       "      <td>0-9</td>\n",
       "      <td>49.0</td>\n",
       "      <td>Other</td>\n",
       "      <td>NaN</td>\n",
       "      <td>NaN</td>\n",
       "      <td>NaN</td>\n",
       "      <td>...</td>\n",
       "      <td>NaN</td>\n",
       "      <td>NaN</td>\n",
       "      <td>NaN</td>\n",
       "      <td>NaN</td>\n",
       "      <td>NaN</td>\n",
       "      <td>NaN</td>\n",
       "      <td>NaN</td>\n",
       "      <td>NaN</td>\n",
       "      <td>NaN</td>\n",
       "      <td>NaN</td>\n",
       "    </tr>\n",
       "    <tr>\n",
       "      <th>4</th>\n",
       "      <td>51630</td>\n",
       "      <td>2009_10</td>\n",
       "      <td>female</td>\n",
       "      <td>49</td>\n",
       "      <td>40-49</td>\n",
       "      <td>596.0</td>\n",
       "      <td>White</td>\n",
       "      <td>NaN</td>\n",
       "      <td>Some College</td>\n",
       "      <td>LivePartner</td>\n",
       "      <td>...</td>\n",
       "      <td>No</td>\n",
       "      <td>NaN</td>\n",
       "      <td>Yes</td>\n",
       "      <td>Yes</td>\n",
       "      <td>12.0</td>\n",
       "      <td>10.0</td>\n",
       "      <td>1.0</td>\n",
       "      <td>Yes</td>\n",
       "      <td>Heterosexual</td>\n",
       "      <td>NaN</td>\n",
       "    </tr>\n",
       "  </tbody>\n",
       "</table>\n",
       "<p>5 rows × 76 columns</p>\n",
       "</div>"
      ],
      "text/plain": [
       "      ID SurveyYr  Gender  Age AgeDecade  AgeMonths  Race1 Race3  \\\n",
       "0  51624  2009_10    male   34     30-39      409.0  White   NaN   \n",
       "1  51624  2009_10    male   34     30-39      409.0  White   NaN   \n",
       "2  51624  2009_10    male   34     30-39      409.0  White   NaN   \n",
       "3  51625  2009_10    male    4       0-9       49.0  Other   NaN   \n",
       "4  51630  2009_10  female   49     40-49      596.0  White   NaN   \n",
       "\n",
       "      Education MaritalStatus  ... RegularMarij  AgeRegMarij  HardDrugs  \\\n",
       "0   High School       Married  ...           No          NaN        Yes   \n",
       "1   High School       Married  ...           No          NaN        Yes   \n",
       "2   High School       Married  ...           No          NaN        Yes   \n",
       "3           NaN           NaN  ...          NaN          NaN        NaN   \n",
       "4  Some College   LivePartner  ...           No          NaN        Yes   \n",
       "\n",
       "   SexEver SexAge SexNumPartnLife  SexNumPartYear  SameSex  SexOrientation  \\\n",
       "0      Yes   16.0             8.0             1.0       No    Heterosexual   \n",
       "1      Yes   16.0             8.0             1.0       No    Heterosexual   \n",
       "2      Yes   16.0             8.0             1.0       No    Heterosexual   \n",
       "3      NaN    NaN             NaN             NaN      NaN             NaN   \n",
       "4      Yes   12.0            10.0             1.0      Yes    Heterosexual   \n",
       "\n",
       "   PregnantNow  \n",
       "0          NaN  \n",
       "1          NaN  \n",
       "2          NaN  \n",
       "3          NaN  \n",
       "4          NaN  \n",
       "\n",
       "[5 rows x 76 columns]"
      ]
     },
     "execution_count": 3,
     "metadata": {},
     "output_type": "execute_result"
    }
   ],
   "source": [
    "datos = pd.read_csv(r\"C:\\Users\\ViG\\Desktop\\DataSets\\NHANES.csv\")\n",
    "datos.head()"
   ]
  },
  {
   "cell_type": "code",
   "execution_count": 4,
   "id": "c8309b15",
   "metadata": {
    "tags": []
   },
   "outputs": [
    {
     "data": {
      "text/plain": [
       "<Axes: ylabel='Gender'>"
      ]
     },
     "execution_count": 4,
     "metadata": {},
     "output_type": "execute_result"
    },
    {
     "data": {
      "image/png": "[encoded data removed]",
      "text/plain": [
       "<Figure size 640x480 with 1 Axes>"
      ]
     },
     "metadata": {},
     "output_type": "display_data"
    }
   ],
   "source": [
    "grafico=pd.crosstab(datos.Gender,datos.HomeOwn)\n",
    "grafico_porcentual= grafico.apply(lambda x: (x*100)/sum(x),axis=1)\n",
    "grafico_porcentual.plot.barh(stacked=True)"
   ]
  },
  {
   "cell_type": "code",
   "execution_count": 5,
   "id": "8c3dfdcb",
   "metadata": {
    "tags": []
   },
   "outputs": [
    {
     "data": {
      "text/html": [
       "<div>\n",
       "<style scoped>\n",
       "    .dataframe tbody tr th:only-of-type {\n",
       "        vertical-align: middle;\n",
       "    }\n",
       "\n",
       "    .dataframe tbody tr th {\n",
       "        vertical-align: top;\n",
       "    }\n",
       "\n",
       "    .dataframe thead th {\n",
       "        text-align: right;\n",
       "    }\n",
       "</style>\n",
       "<table border=\"1\" class=\"dataframe\">\n",
       "  <thead>\n",
       "    <tr style=\"text-align: right;\">\n",
       "      <th></th>\n",
       "      <th>Gender</th>\n",
       "      <th>HomeOwn</th>\n",
       "    </tr>\n",
       "  </thead>\n",
       "  <tbody>\n",
       "    <tr>\n",
       "      <th>0</th>\n",
       "      <td>male</td>\n",
       "      <td>Own</td>\n",
       "    </tr>\n",
       "    <tr>\n",
       "      <th>1</th>\n",
       "      <td>male</td>\n",
       "      <td>Own</td>\n",
       "    </tr>\n",
       "    <tr>\n",
       "      <th>2</th>\n",
       "      <td>male</td>\n",
       "      <td>Own</td>\n",
       "    </tr>\n",
       "    <tr>\n",
       "      <th>3</th>\n",
       "      <td>male</td>\n",
       "      <td>Own</td>\n",
       "    </tr>\n",
       "    <tr>\n",
       "      <th>4</th>\n",
       "      <td>female</td>\n",
       "      <td>Rent</td>\n",
       "    </tr>\n",
       "  </tbody>\n",
       "</table>\n",
       "</div>"
      ],
      "text/plain": [
       "   Gender HomeOwn\n",
       "0    male     Own\n",
       "1    male     Own\n",
       "2    male     Own\n",
       "3    male     Own\n",
       "4  female    Rent"
      ]
     },
     "execution_count": 5,
     "metadata": {},
     "output_type": "execute_result"
    }
   ],
   "source": [
    "analisis=datos.loc[datos['HomeOwn'].isin(['Own','Rent']),\n",
    "                  ['Gender','HomeOwn']]\n",
    "analisis.head()"
   ]
  },
  {
   "cell_type": "code",
   "execution_count": 6,
   "id": "dc820f7c",
   "metadata": {
    "tags": []
   },
   "outputs": [],
   "source": [
    "## Se define una funcion de permutaciones \n",
    "\n",
    "def permutation_sample(data1,data2):\n",
    "    \"\"\"Genera una muestra permuta a partir de dos conjuntos de datos.\"\"\"\n",
    "    \n",
    "    ##Concatenar los conjuntos de datos: data\n",
    "    data=np.concatenate((data1,data2))\n",
    "    \n",
    "    # Permutar el arreglo concatenado: datos permutados\n",
    "    permuted_data=np.random.permutation(data)\n",
    "    \n",
    "    # Dividr el arreglo permutado en dos\n",
    "    perm_sample_1=permuted_data[:len(data1)]\n",
    "    perm_sample_2=permuted_data[len(data1):]\n",
    "    \n",
    "    return perm_sample_1,perm_sample_2"
   ]
  },
  {
   "cell_type": "code",
   "execution_count": 7,
   "id": "8d8b0131",
   "metadata": {
    "tags": []
   },
   "outputs": [],
   "source": [
    "perm_sample_1,perm_sample_2= permutation_sample(\n",
    "                            datos.loc[datos['Gender']=='male',['HomeOwn']],\n",
    "                            datos.loc[datos['Gender']=='female',['HomeOwn']])"
   ]
  },
  {
   "cell_type": "code",
   "execution_count": 8,
   "id": "0ff443e0",
   "metadata": {
    "tags": []
   },
   "outputs": [
    {
     "data": {
      "text/plain": [
       "0.0001400022400358525"
      ]
     },
     "execution_count": 8,
     "metadata": {},
     "output_type": "execute_result"
    }
   ],
   "source": [
    "#### Se crea la funcion para definir la diferencia entre proporciones###\n",
    "\n",
    "\n",
    "def diff_of_props(data_1,data_2,value):\n",
    "    \"\"\"Diferencia entre los promedios de dos arreglos\"\"\"\n",
    "    \n",
    "    # se calcula la diferencia entre las proporciones de datos 1 y datos 2: diff\n",
    "    diff=np.mean(data_1[:,0]==value) - np.mean(data_2[:,0]==value)\n",
    "    \n",
    "    return diff\n",
    "\n",
    "diff_empiricas_prop=diff_of_props(perm_sample_1,perm_sample_2,'Own')\n",
    "diff_empiricas_prop\n",
    "\n"
   ]
  },
  {
   "cell_type": "code",
   "execution_count": 9,
   "id": "a7693c68",
   "metadata": {},
   "outputs": [],
   "source": [
    "## Definir una funcion que permita ejecutar mediante un ciclo repetidas veces para generar diferentes permutaciones, para poder comparar resultados\n",
    "## Para comparar si existe evidencia en la tenencia de hogar entre hombres y mujures\n",
    "\n",
    "## Permutacion ; una variacion del orden o posicion de los elementos (Intercambio de posiciones sin repeticiones abc , cba, bca). \n",
    "\n",
    "def draw_perm_reps(data_1,data_2,func,value,size=1, prop=0):\n",
    "    \"\"\"Multiples repeticiones permutadas\"\"\"\n",
    "\n",
    "    \n",
    "    # Inicializar un arreglo (matrix) un arreglo puede contener una o varias columnas de repeticiones: perm_replicates\n",
    "    perm_replicates = np.empty(size)\n",
    "        \n",
    "        \n",
    "    for i in range(size):\n",
    "        # Se genera la muestra permutada \n",
    "        perm_sample_1,perm_perm_sample_2 = permutation_sample(data_1,data_2)\n",
    "        \n",
    "        ## computar el estadistico de prueba\n",
    "        \n",
    "        if prop ==0:\n",
    "            perm_replicates[i] = func(perm_sample_1,perm_sample_2)\n",
    "        elif prop == 1:\n",
    "            perm_replicates[i] = func(perm_sample_1,perm_sample_2,value)  \n",
    "            \n",
    "    return perm_replicates"
   ]
  },
  {
   "cell_type": "code",
   "execution_count": 10,
   "id": "1c2af4d5",
   "metadata": {},
   "outputs": [],
   "source": [
    "### Probar diferentes tamaños de permutacion , se generan 10 mil permutaciones o replicas en el objeto : perm_replicas\n",
    "### loc permite seleccionar columnas\n",
    "\n",
    "perm_replicates = draw_perm_reps(datos.loc[datos['Gender'] == 'male',['HomeOwn']],\n",
    "                                 datos.loc[datos['Gender'] == 'female',['HomeOwn']],\n",
    "                                 diff_of_props, value = 'Own', size=10000, prop =1)"
   ]
  },
  {
   "cell_type": "code",
   "execution_count": 13,
   "id": "7ec83256",
   "metadata": {
    "tags": []
   },
   "outputs": [
    {
     "name": "stdout",
     "output_type": "stream",
     "text": [
      "p-value = 0.9831\n"
     ]
    }
   ],
   "source": [
    "### Calcular el estadistico mas importante prueba de hipotesis ( Nula y Alternativa)\n",
    "## Calcular el valor P segun el valor de tolerancia , para saber si es lo suficientemente grande o pequeño para comrpobar si es suficiente para la muestra estadistica\n",
    "\n",
    "##p = np.sum(perm_replicates >=diff_empiricas_prop) / len(perm_replicates)\n",
    "\n",
    "## se agrega abs ya que no importa si el valor es positivo o negativo\n",
    "\n",
    "p = np.sum(abs(perm_replicates) >= abs(diff_empiricas_prop)) / len(perm_replicates)\n",
    "\n",
    "## Imprimir resultado\n",
    "        \n",
    "print('p-value =',p)\n",
    "\n",
    "## nivel de significancia es de 0.98 es mayor 0.5 existe evidencia estadistica suficiente para no rechazar la hipotesis nula"
   ]
  },
  {
   "cell_type": "code",
   "execution_count": 16,
   "id": "0195ef71",
   "metadata": {},
   "outputs": [],
   "source": [
    "## conclusion grafica o bien regio critica. Primeramente se crean los objetos\n",
    "\n",
    "## Y se prueban con diferentes niveles de confianza\n",
    "\n",
    "nv1_95 = np.percentile(perm_replicates,95)\n",
    "nv1_975 = np.percentile(perm_replicates,97.5)\n",
    "nv1_995 = np.percentile(perm_replicates,99.5)\n",
    "\n",
    "\n",
    "\n",
    "nv1_5 = np.percentile(perm_replicates,5)\n",
    "nv1_275 = np.percentile(perm_replicates,2.5)\n",
    "nv1_005 = np.percentile(perm_replicates,0.5)"
   ]
  },
  {
   "cell_type": "code",
   "execution_count": 19,
   "id": "e3d84e5c-e203-41f1-a4c3-a71115d300d5",
   "metadata": {
    "tags": []
   },
   "outputs": [
    {
     "data": {
      "text/plain": [
       "<matplotlib.lines.Line2D at 0x1f42dda6d60>"
      ]
     },
     "execution_count": 19,
     "metadata": {},
     "output_type": "execute_result"
    },
    {
     "data": {
      "image/png": "[encoded data removed]",
      "text/plain": [
       "<Figure size 640x480 with 1 Axes>"
      ]
     },
     "metadata": {},
     "output_type": "display_data"
    }
   ],
   "source": [
    "## Graficar para un 90% de confianza\n",
    "\n",
    "sns.histplot(data=perm_replicates)\n",
    "plt.axvline(diff_empiricas_prop,c=\"green\")\n",
    "plt.axvline(nv1_95,c=\"red\")\n",
    "plt.axvline(nv1_5,c=\"red\")\n",
    "\n",
    "## lA LINEA VERDE no cae en las zonas criticas, al estar centrada demuestra que hay suficiente prueba estadistica para aceptar la hipotesis nula"
   ]
  },
  {
   "cell_type": "code",
   "execution_count": 20,
   "id": "ea82288d-af7f-4dca-ba1b-20fc7db04755",
   "metadata": {
    "tags": []
   },
   "outputs": [
    {
     "data": {
      "text/plain": [
       "<matplotlib.lines.Line2D at 0x1f42de8e4c0>"
      ]
     },
     "execution_count": 20,
     "metadata": {},
     "output_type": "execute_result"
    },
    {
     "data": {
      "image/png": "[encoded data removed]",
      "text/plain": [
       "<Figure size 640x480 with 1 Axes>"
      ]
     },
     "metadata": {},
     "output_type": "display_data"
    }
   ],
   "source": [
    "## 95% confianza # La distribucion se mantiene \n",
    "\n",
    "sns.histplot(data=perm_replicates)\n",
    "plt.axvline(diff_empiricas_prop,c=\"green\")\n",
    "plt.axvline(nv1_975,c=\"red\")\n",
    "plt.axvline(nv1_275,c=\"red\")"
   ]
  },
  {
   "cell_type": "code",
   "execution_count": 21,
   "id": "55e34e0d-2f11-4ec1-8a22-1da496c4283e",
   "metadata": {
    "tags": []
   },
   "outputs": [
    {
     "data": {
      "text/plain": [
       "<matplotlib.lines.Line2D at 0x1f42dc19b50>"
      ]
     },
     "execution_count": 21,
     "metadata": {},
     "output_type": "execute_result"
    },
    {
     "data": {
      "image/png": "[encoded data removed]",
      "text/plain": [
       "<Figure size 640x480 with 1 Axes>"
      ]
     },
     "metadata": {},
     "output_type": "display_data"
    }
   ],
   "source": [
    "## 99% confianza # La distribucion se mantiene \n",
    "\n",
    "sns.histplot(data=perm_replicates)\n",
    "plt.axvline(diff_empiricas_prop,c=\"green\")\n",
    "plt.axvline(nv1_995,c=\"red\")\n",
    "plt.axvline(nv1_005,c=\"red\")"
   ]
  },
  {
   "cell_type": "code",
   "execution_count": 22,
   "id": "98585022-c91a-4eeb-812e-6f80c3eee6d8",
   "metadata": {
    "tags": []
   },
   "outputs": [
    {
     "data": {
      "text/plain": [
       "<Axes: xlabel='Gender', ylabel='BMI'>"
      ]
     },
     "execution_count": 22,
     "metadata": {},
     "output_type": "execute_result"
    },
    {
     "data": {
      "image/png": "[encoded data removed]",
      "text/plain": [
       "<Figure size 640x480 with 1 Axes>"
      ]
     },
     "metadata": {},
     "output_type": "display_data"
    }
   ],
   "source": [
    "## Verificar si la masa musculae entre hombre y mujeres difiere\n",
    "\n",
    "## Grafico boxplot para verificar de forma descriptiva si hay diferencias de la muestra entre hombre y mujeres\n",
    "\n",
    "sns.boxplot(x=\"Gender\", y=\"BMI\", data=datos)"
   ]
  },
  {
   "cell_type": "code",
   "execution_count": 23,
   "id": "72718079-0eac-458f-8086-ad880bf5fd1f",
   "metadata": {
    "tags": []
   },
   "outputs": [
    {
     "data": {
      "text/html": [
       "<div>\n",
       "<style scoped>\n",
       "    .dataframe tbody tr th:only-of-type {\n",
       "        vertical-align: middle;\n",
       "    }\n",
       "\n",
       "    .dataframe tbody tr th {\n",
       "        vertical-align: top;\n",
       "    }\n",
       "\n",
       "    .dataframe thead th {\n",
       "        text-align: right;\n",
       "    }\n",
       "</style>\n",
       "<table border=\"1\" class=\"dataframe\">\n",
       "  <thead>\n",
       "    <tr style=\"text-align: right;\">\n",
       "      <th></th>\n",
       "      <th>Gender</th>\n",
       "      <th>BMI</th>\n",
       "    </tr>\n",
       "  </thead>\n",
       "  <tbody>\n",
       "    <tr>\n",
       "      <th>0</th>\n",
       "      <td>male</td>\n",
       "      <td>32.22</td>\n",
       "    </tr>\n",
       "    <tr>\n",
       "      <th>1</th>\n",
       "      <td>male</td>\n",
       "      <td>32.22</td>\n",
       "    </tr>\n",
       "    <tr>\n",
       "      <th>2</th>\n",
       "      <td>male</td>\n",
       "      <td>32.22</td>\n",
       "    </tr>\n",
       "    <tr>\n",
       "      <th>3</th>\n",
       "      <td>male</td>\n",
       "      <td>15.30</td>\n",
       "    </tr>\n",
       "    <tr>\n",
       "      <th>4</th>\n",
       "      <td>female</td>\n",
       "      <td>30.57</td>\n",
       "    </tr>\n",
       "  </tbody>\n",
       "</table>\n",
       "</div>"
      ],
      "text/plain": [
       "   Gender    BMI\n",
       "0    male  32.22\n",
       "1    male  32.22\n",
       "2    male  32.22\n",
       "3    male  15.30\n",
       "4  female  30.57"
      ]
     },
     "execution_count": 23,
     "metadata": {},
     "output_type": "execute_result"
    }
   ],
   "source": [
    "## seleccionar las variable de trabajo \n",
    "\n",
    "## crear objeto para guardar las varaibles\n",
    "\n",
    "analisis_cuantitativo = datos.loc[:, ['Gender', 'BMI']]\n",
    "analisis_cuantitativo = analisis_cuantitativo.dropna()\n",
    "analisis_cuantitativo.head()"
   ]
  },
  {
   "cell_type": "code",
   "execution_count": 25,
   "id": "8b76bae7-2fb4-4762-aeeb-5842f4155bf1",
   "metadata": {
    "tags": []
   },
   "outputs": [],
   "source": [
    "perm_sample_1, perm_sample_2 = permutation_sample(\n",
    "                                analisis_cuantitativo.loc[analisis_cuantitativo['Gender'] == 'male', ['BMI']],\n",
    "                                analisis_cuantitativo.loc[analisis_cuantitativo['Gender'] == 'female', ['BMI']]\n",
    "                                )       "
   ]
  },
  {
   "cell_type": "code",
   "execution_count": 26,
   "id": "f469803a-4cf2-430e-b2e1-6bf4df669c12",
   "metadata": {
    "tags": []
   },
   "outputs": [],
   "source": [
    "def diff_of_means(data_1, data_2):\n",
    "    \n",
    "    diff = np.mean(data_1) - np.mean(data_2)\n",
    "    \n",
    "    return diff"
   ]
  },
  {
   "cell_type": "code",
   "execution_count": 28,
   "id": "71b8f7fc-677d-4279-9868-447856d1b5cc",
   "metadata": {
    "tags": []
   },
   "outputs": [
    {
     "data": {
      "text/plain": [
       "-0.15885041891076312"
      ]
     },
     "execution_count": 28,
     "metadata": {},
     "output_type": "execute_result"
    }
   ],
   "source": [
    "diff_empiricas_medias = diff_of_means(perm_sample_1, perm_sample_2)\n",
    "diff_empiricas_medias"
   ]
  },
  {
   "cell_type": "code",
   "execution_count": 31,
   "id": "457ba36d-29f5-403c-9392-f83628e103fe",
   "metadata": {
    "tags": []
   },
   "outputs": [],
   "source": [
    "## Generacion de permutaciones\n",
    "\n",
    "perm_replicates = draw_perm_reps(analisis_cuantitativo.loc[analisis_cuantitativo['Gender'] == 'male', ['BMI']],\n",
    "                                 analisis_cuantitativo.loc[analisis_cuantitativo['Gender'] == 'female', ['BMI']],\n",
    "                                diff_of_means, value=\"\",size = 10000, prop = 0\n",
    "                                )"
   ]
  },
  {
   "cell_type": "code",
   "execution_count": 34,
   "id": "fce564df-6412-4c0e-b4bd-1af472fd842d",
   "metadata": {
    "tags": []
   },
   "outputs": [
    {
     "name": "stdout",
     "output_type": "stream",
     "text": [
      "p-value = 0.1469\n"
     ]
    }
   ],
   "source": [
    "## Calcular valor P utilziando libreria numpy, se utilzia valor absoluto para verificar valores negativos y positivos\n",
    "\n",
    "p = np.sum(abs(perm_replicates) >= abs(diff_empiricas_medias)) / len(perm_replicates)\n",
    "\n",
    "print('p-value =',p)\n",
    "\n"
   ]
  },
  {
   "cell_type": "code",
   "execution_count": 35,
   "id": "f5a66783-c4c5-4af5-95a6-d44d94557c9e",
   "metadata": {
    "tags": []
   },
   "outputs": [],
   "source": [
    "## Confirmar graficamente si existe razon para rechazar la hipotesis nula\n",
    "\n",
    "nv1_95 = np.percentile(perm_replicates,95)\n",
    "nv1_975 = np.percentile(perm_replicates,97.5)\n",
    "nv1_995 = np.percentile(perm_replicates,99.5)\n",
    "\n",
    "\n",
    "\n",
    "nv1_5 = np.percentile(perm_replicates,5)\n",
    "nv1_275 = np.percentile(perm_replicates,2.5)\n",
    "nv1_005 = np.percentile(perm_replicates,0.5)"
   ]
  },
  {
   "cell_type": "code",
   "execution_count": 36,
   "id": "c4437e94-f012-49b6-b6c9-4c0f79a05cfb",
   "metadata": {
    "tags": []
   },
   "outputs": [
    {
     "data": {
      "text/plain": [
       "<matplotlib.lines.Line2D at 0x1f4329e28e0>"
      ]
     },
     "execution_count": 36,
     "metadata": {},
     "output_type": "execute_result"
    },
    {
     "data": {
      "image/png": "[encoded data removed]",
      "text/plain": [
       "<Figure size 640x480 with 1 Axes>"
      ]
     },
     "metadata": {},
     "output_type": "display_data"
    }
   ],
   "source": [
    "sns.histplot(data=perm_replicates)\n",
    "plt.axvline(diff_empiricas_prop,c=\"green\")\n",
    "plt.axvline(nv1_95,c=\"red\")\n",
    "plt.axvline(nv1_5,c=\"red\")\n"
   ]
  },
  {
   "cell_type": "code",
   "execution_count": 37,
   "id": "2062c43d-d81d-49e2-be22-c733ae7f908d",
   "metadata": {
    "tags": []
   },
   "outputs": [
    {
     "data": {
      "text/plain": [
       "<matplotlib.lines.Line2D at 0x1f42dc9bbb0>"
      ]
     },
     "execution_count": 37,
     "metadata": {},
     "output_type": "execute_result"
    },
    {
     "data": {
      "image/png": "[encoded data removed]",
      "text/plain": [
       "<Figure size 640x480 with 1 Axes>"
      ]
     },
     "metadata": {},
     "output_type": "display_data"
    }
   ],
   "source": [
    "sns.histplot(data=perm_replicates)\n",
    "plt.axvline(diff_empiricas_prop,c=\"green\")\n",
    "plt.axvline(nv1_975,c=\"red\")\n",
    "plt.axvline(nv1_275,c=\"red\")"
   ]
  },
  {
   "cell_type": "code",
   "execution_count": 38,
   "id": "5f79a08a-c3c1-4529-941f-c4953b9c9ad0",
   "metadata": {
    "tags": []
   },
   "outputs": [
    {
     "data": {
      "text/plain": [
       "<matplotlib.lines.Line2D at 0x1f432acdd90>"
      ]
     },
     "execution_count": 38,
     "metadata": {},
     "output_type": "execute_result"
    },
    {
     "data": {
      "image/png": "[encoded data removed]",
      "text/plain": [
       "<Figure size 640x480 with 1 Axes>"
      ]
     },
     "metadata": {},
     "output_type": "display_data"
    }
   ],
   "source": [
    "sns.histplot(data=perm_replicates)\n",
    "plt.axvline(diff_empiricas_prop,c=\"green\")\n",
    "plt.axvline(nv1_995,c=\"red\")\n",
    "plt.axvline(nv1_005,c=\"red\")"
   ]
  },
  {
   "cell_type": "code",
   "execution_count": null,
   "id": "5ce4f6e4-76c4-4c37-b438-1e2d0ad315e9",
   "metadata": {},
   "outputs": [],
   "source": []
  }
 ],
 "metadata": {
  "kernelspec": {
   "display_name": "Python 3 (ipykernel)",
   "language": "python",
   "name": "python3"
  },
  "language_info": {
   "codemirror_mode": {
    "name": "ipython",
    "version": 3
   },
   "file_extension": ".py",
   "mimetype": "text/x-python",
   "name": "python",
   "nbconvert_exporter": "python",
   "pygments_lexer": "ipython3",
   "version": "3.9.7"
  }
 },
 "nbformat": 4,
 "nbformat_minor": 5
}
